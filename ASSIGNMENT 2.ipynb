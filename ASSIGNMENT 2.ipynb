{
 "cells": [
  {
   "cell_type": "code",
   "execution_count": null,
   "id": "ed918323",
   "metadata": {},
   "outputs": [],
   "source": [
    "#1 answer\n",
    "True and False, using capital T and F, with the rest of the word in lowercase.\n"
   ]
  },
  {
   "cell_type": "code",
   "execution_count": null,
   "id": "aa92e846",
   "metadata": {},
   "outputs": [],
   "source": [
    "#2 answer\n",
    "The three different types of Boolean operators are-\n",
    "AND-returns true if both the expressions are true\n",
    "OR-returns true only if one of the expression is true\n",
    "NOT-reverses the result,returns false if result is true"
   ]
  },
  {
   "cell_type": "code",
   "execution_count": null,
   "id": "d7f5a5e5",
   "metadata": {},
   "outputs": [],
   "source": [
    "#3 answer\n",
    "OR operator truth table-\n",
    "\n",
    "Result of exp1\tResult of exp2\tResult of exp1 or exp2\n",
    "True\tTrue\tTrue\n",
    "True\tFalse\tTrue\n",
    "False\tTrue\tTrue\n",
    "False\tFalse\tFalse\n",
    "\n",
    "AND operator truth table-\n",
    "\n",
    "operand1\toperand2\toperand1 and operand2\n",
    "True\tTrue\tTrue\n",
    "True\tFalse\tFalse\n",
    "False\tFalse\tFalse\n",
    "False\tTrue\tFalse\n",
    "\n",
    "NOt operator truth table-\n",
    "\n",
    "operand\tnot operand\n",
    "True\tFalse\n",
    "False\tTrue"
   ]
  },
  {
   "cell_type": "code",
   "execution_count": null,
   "id": "4e4931ed",
   "metadata": {},
   "outputs": [],
   "source": [
    "#4 answer\n",
    "(5 > 4) and (3 == 5)-False\n",
    "not(5>4)-False\n",
    "(5 > 4) or (3 == 5)-True\n",
    "not((5 > 4) or (3 == 5))-False\n",
    "(True and True) and (True == False)-False\n",
    "(not False) or (not True)-True"
   ]
  },
  {
   "cell_type": "code",
   "execution_count": null,
   "id": "8f194808",
   "metadata": {},
   "outputs": [],
   "source": [
    "#5 answer\n",
    "The six comparison operators are-\n",
    "1.> is greater than\n",
    "2.< is less than\n",
    "3.<= is less than or equal to\n",
    "4.>= is greater than or equal to\n",
    "5.!= is not equal to\n",
    "6.== is equal to\n"
   ]
  },
  {
   "cell_type": "code",
   "execution_count": null,
   "id": "2889a538",
   "metadata": {},
   "outputs": [],
   "source": [
    "#6 answer\n",
    "When we are assigning a data type to a variable we use only \"=\" but when we are performing equal to then  we use \"==\".\n",
    "Condition to check equal to is when we want to check or compare values -\n",
    "example- if (2==2) would lead to True as 2 is equal to 2 but \n",
    "a=2 is saying that we assigned a's value to 2"
   ]
  },
  {
   "cell_type": "code",
   "execution_count": null,
   "id": "bd10ec53",
   "metadata": {},
   "outputs": [],
   "source": [
    "#7 answer\n",
    "\n",
    "spam = 0\n",
    "if spam == 10:\n",
    "    print('eggs') #first block as first indentation occurs\n",
    "    if spam > 5:\n",
    "        print('bacon') #second block as second indentation  occurs\n",
    "    else:             #second block ends\n",
    "        print('ham') #third block of code as third identation occurs\n",
    "    print('spam')   #third block ends\n",
    "print('spam')      #first block ends\n"
   ]
  },
  {
   "cell_type": "code",
   "execution_count": 6,
   "id": "bdf19655",
   "metadata": {},
   "outputs": [
    {
     "name": "stdout",
     "output_type": "stream",
     "text": [
      "12\n",
      "Greetings!\n"
     ]
    }
   ],
   "source": [
    "#8 answer\n",
    "spam=int(input())\n",
    "if (spam==1):\n",
    "    print(\"Hello\")\n",
    "elif (spam==2):\n",
    "    print(\"Howdy\")\n",
    "else:\n",
    "    print(\"Greetings!\")"
   ]
  },
  {
   "cell_type": "code",
   "execution_count": null,
   "id": "d446458c",
   "metadata": {},
   "outputs": [],
   "source": [
    "#9 answer\n",
    "Ctrl+C is the key to press to break out of an infinite loop"
   ]
  },
  {
   "cell_type": "code",
   "execution_count": null,
   "id": "82bff34e",
   "metadata": {},
   "outputs": [],
   "source": [
    "#10 answer\n",
    "break statement makes the control exit the current loop but continue statement just skips the next lines for current iteration but doesn't\n",
    "exit from the loop"
   ]
  },
  {
   "cell_type": "code",
   "execution_count": null,
   "id": "b61e7865",
   "metadata": {},
   "outputs": [],
   "source": [
    "#11 answer\n",
    "range(10) prints numbers from 0 to 9 so total ten numbers are printed,range(0,10) does the same thing but here we have mentioned \n",
    "the start point as 0.\n",
    "range(0,10,1) does the same thing but here,the last number 1 represents the difference between the values. Example-0,1,2,3,4,5,6,7,8,9\n",
    "they all differ from each other by 1."
   ]
  },
  {
   "cell_type": "code",
   "execution_count": 9,
   "id": "5b7d82e8",
   "metadata": {},
   "outputs": [
    {
     "name": "stdout",
     "output_type": "stream",
     "text": [
      "1\n",
      "2\n",
      "3\n",
      "4\n",
      "5\n",
      "6\n",
      "7\n",
      "8\n",
      "9\n",
      "10\n"
     ]
    }
   ],
   "source": [
    "#12 answer\n",
    "for i in range(1,11):\n",
    "    print(i)\n"
   ]
  },
  {
   "cell_type": "code",
   "execution_count": 1,
   "id": "17205304",
   "metadata": {},
   "outputs": [
    {
     "name": "stdout",
     "output_type": "stream",
     "text": [
      "1\n",
      "2\n",
      "3\n",
      "4\n",
      "5\n",
      "6\n",
      "7\n",
      "8\n",
      "9\n",
      "10\n"
     ]
    }
   ],
   "source": [
    "i=1\n",
    "while(i<11):\n",
    "    print(i)\n",
    "    i+=1"
   ]
  },
  {
   "cell_type": "code",
   "execution_count": null,
   "id": "52a9b7a1",
   "metadata": {},
   "outputs": [],
   "source": [
    "#13 answer\n",
    "spam. bacon()"
   ]
  },
  {
   "cell_type": "code",
   "execution_count": null,
   "id": "f17b6c11",
   "metadata": {},
   "outputs": [],
   "source": []
  },
  {
   "cell_type": "code",
   "execution_count": null,
   "id": "e05901f4",
   "metadata": {},
   "outputs": [],
   "source": []
  }
 ],
 "metadata": {
  "kernelspec": {
   "display_name": "Python 3",
   "language": "python",
   "name": "python3"
  },
  "language_info": {
   "codemirror_mode": {
    "name": "ipython",
    "version": 3
   },
   "file_extension": ".py",
   "mimetype": "text/x-python",
   "name": "python",
   "nbconvert_exporter": "python",
   "pygments_lexer": "ipython3",
   "version": "3.8.8"
  }
 },
 "nbformat": 4,
 "nbformat_minor": 5
}

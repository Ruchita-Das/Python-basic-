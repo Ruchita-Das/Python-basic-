{
 "cells": [
  {
   "cell_type": "code",
   "execution_count": null,
   "id": "6e4ec580",
   "metadata": {},
   "outputs": [],
   "source": [
    "1. What exactly is []?\n",
    "[] represents an empty list with no values."
   ]
  },
  {
   "cell_type": "code",
   "execution_count": 6,
   "id": "e92d911a",
   "metadata": {},
   "outputs": [
    {
     "data": {
      "text/plain": [
       "[2, 4, 6, 8, 10, 'hello']"
      ]
     },
     "execution_count": 6,
     "metadata": {},
     "output_type": "execute_result"
    }
   ],
   "source": [
    "#2.In a list of values stored in a variable called spam, how would you assign the value 'hello' as the third value? (Assume [2, 4, 6, 8, 10] are in spam.)\n",
    "spam=[2, 4, 6, 8, 10]\n",
    "spam.append('hello') \n",
    "spam\n",
    "Hence to add 'hello' to the list,we just use append() function"
   ]
  },
  {
   "cell_type": "code",
   "execution_count": 7,
   "id": "a5b6086a",
   "metadata": {},
   "outputs": [],
   "source": [
    "#Let's pretend the spam includes the list ['a', 'b', 'c', 'd'] for the next three queries."
   ]
  },
  {
   "cell_type": "code",
   "execution_count": 19,
   "id": "85e7013e",
   "metadata": {},
   "outputs": [],
   "source": [
    "spam=['a', 'b', 'c', 'd']"
   ]
  },
  {
   "cell_type": "code",
   "execution_count": null,
   "id": "22efc395",
   "metadata": {},
   "outputs": [],
   "source": [
    "#3.What is the value of spam[int(int('3' * 2) / 11)]?\n",
    "int('3' * 2) / 11 gives 3 as answer as '3'*2=33 and 33/11 is 3\n",
    "int(3) gives 3\n",
    "spam[3] gives d"
   ]
  },
  {
   "cell_type": "code",
   "execution_count": null,
   "id": "f4d27b6d",
   "metadata": {},
   "outputs": [],
   "source": [
    "#4. What is the value of spam[-1]?\n",
    "spam[-1] gives the last index i.e. d"
   ]
  },
  {
   "cell_type": "code",
   "execution_count": null,
   "id": "18fe9070",
   "metadata": {},
   "outputs": [],
   "source": [
    "#5. What is the value of spam[:2]?\n",
    "['a', 'b'] is the value as spam[:2] is just giving the results before the index 2"
   ]
  },
  {
   "cell_type": "code",
   "execution_count": 25,
   "id": "15bc67e7",
   "metadata": {},
   "outputs": [],
   "source": [
    "bacon=[3.14, 'cat',11, 'cat',True] "
   ]
  },
  {
   "cell_type": "code",
   "execution_count": null,
   "id": "2886d05b",
   "metadata": {},
   "outputs": [],
   "source": [
    "#6. What is the value of bacon.index('cat')?\n",
    "The value is 1 as even if there are two 'cat' int the last,the .index() functions returns the index in which the cat first appeared"
   ]
  },
  {
   "cell_type": "code",
   "execution_count": 36,
   "id": "9b7c895e",
   "metadata": {},
   "outputs": [
    {
     "data": {
      "text/plain": [
       "[3.14, 'cat', 11, 'cat', True, 99]"
      ]
     },
     "execution_count": 36,
     "metadata": {},
     "output_type": "execute_result"
    }
   ],
   "source": [
    "#7. How does bacon.append(99) change the look of the list value in bacon?\n",
    "bacon.append(99)\n",
    "\n",
    "bacon\n",
    "\n",
    "append() function just adds the specified value at the end of the list"
   ]
  },
  {
   "cell_type": "code",
   "execution_count": 37,
   "id": "558e57d9",
   "metadata": {},
   "outputs": [
    {
     "data": {
      "text/plain": [
       "[3.14, 11, 'cat', True, 99]"
      ]
     },
     "execution_count": 37,
     "metadata": {},
     "output_type": "execute_result"
    }
   ],
   "source": [
    "#8. How does bacon.remove('cat') change the look of the list in bacon?\n",
    "bacon.remove('cat')\n",
    "bacon\n",
    "remove() removes the first instance where the value specified occurs "
   ]
  },
  {
   "cell_type": "code",
   "execution_count": 42,
   "id": "9a478ab2",
   "metadata": {},
   "outputs": [
    {
     "name": "stdout",
     "output_type": "stream",
     "text": [
      "[10, 11, 12, 13, 14, 20, 30, 42]\n",
      "[1, 2, 3, 1, 2, 3, 1, 2, 3, 1, 2, 3]\n"
     ]
    }
   ],
   "source": [
    "#9. What are the list concatenation and list replication operators?\n",
    "#list concatenation operators are-\n",
    "#'+' operator\n",
    "#Example-\n",
    "list1 = [10, 11, 12, 13, 14] \n",
    "list2 = [20, 30, 42] \n",
    "res = list1 + list2 \n",
    "print(res)\n",
    "#list replication operators are-\n",
    "#'*' operator\n",
    "#Example-\n",
    "# Initializing lists\n",
    "a = [1, 2, 3] \n",
    "d=a*4\n",
    "print(d)\n",
    "#d is 4 times a"
   ]
  },
  {
   "cell_type": "code",
   "execution_count": 44,
   "id": "aa8f1f02",
   "metadata": {},
   "outputs": [
    {
     "data": {
      "text/plain": [
       "[1, 2, 2, 3, 2]"
      ]
     },
     "execution_count": 44,
     "metadata": {},
     "output_type": "execute_result"
    }
   ],
   "source": [
    "#10. What is difference between the list methods append() and insert()?\n",
    "#The difference between the two methods is that .append() adds an item to the end of a list\n",
    "#whereas .insert() inserts and item in a specified position in the list.\n",
    "#list_name.insert(position,item) is the syntax for insert while list_name.append(item) is syntax for append\n",
    "#Example-\n",
    "a = [1, 2, 3] \n",
    "a.insert(2,2)\n",
    "a.append(2)\n",
    "a"
   ]
  },
  {
   "cell_type": "code",
   "execution_count": 48,
   "id": "3340e9bf",
   "metadata": {},
   "outputs": [
    {
     "data": {
      "text/plain": [
       "['apple', 'cherry']"
      ]
     },
     "execution_count": 48,
     "metadata": {},
     "output_type": "execute_result"
    }
   ],
   "source": [
    "#11. What are the two methods for removing items from a list?\n",
    "#remove()\tIt helps to remove the very first given element matching from the list.\n",
    "#pop()\tThe pop() method removes an element from the list based on the index given.\n",
    "#clear()\tThe clear() method will remove all the elements present in the list.\n",
    "#example-\n",
    "fruits = ['apple', 'banana', 'cherry']\n",
    "\n",
    "x = fruits.pop(1)\n",
    "fruits\n",
    "\n"
   ]
  },
  {
   "cell_type": "code",
   "execution_count": null,
   "id": "5b757169",
   "metadata": {},
   "outputs": [],
   "source": [
    "#12. Describe how list values and string values are identical.\n",
    "#ANSWER-Both strings and lists have lengths: a string's length is the number of characters in the string;\n",
    "#a list's length is the number of items in the list\n",
    "#but A string is a sequence of characters. A list a sequence of values which can be characters, integers or even another list\n",
    "#Also both lists and strings have indexes,can be used in for loop,be used in in and not in operators.\n",
    "#can be concatenated and replicated"
   ]
  },
  {
   "cell_type": "code",
   "execution_count": null,
   "id": "fba49522",
   "metadata": {},
   "outputs": [],
   "source": [
    "#13. What's the difference between tuples and lists?\n",
    "#The primary difference between tuples and lists is that tuples are immutable as opposed to lists which are mutable. \n",
    "#Therefore, it is possible to change a list but not a tuple."
   ]
  },
  {
   "cell_type": "code",
   "execution_count": 50,
   "id": "e3d5b08c",
   "metadata": {},
   "outputs": [
    {
     "data": {
      "text/plain": [
       "(42,)"
      ]
     },
     "execution_count": 50,
     "metadata": {},
     "output_type": "execute_result"
    }
   ],
   "source": [
    "#14. How do you type a tuple value that only contains the integer 42?\n",
    "tuple=(42,)\n",
    "tuple"
   ]
  },
  {
   "cell_type": "code",
   "execution_count": 51,
   "id": "1467e583",
   "metadata": {},
   "outputs": [],
   "source": [
    "#15. How do you get a list value's tuple form? How do you get a tuple value's list form?\n",
    "#we use tuple(list_name) to get tuple form of list and list(tuple_name) to get list form of tuple"
   ]
  },
  {
   "cell_type": "code",
   "execution_count": null,
   "id": "78f65a0b",
   "metadata": {},
   "outputs": [],
   "source": [
    "#16. Variables that \"contain\" list values are not necessarily lists themselves. Instead, what do they contain?\n",
    "#Variables will contain references to list values rather than list values themselves.\n",
    "#But for strings and integer values, variables simply contain the string or integer value."
   ]
  },
  {
   "cell_type": "code",
   "execution_count": 54,
   "id": "49321ae5",
   "metadata": {},
   "outputs": [
    {
     "name": "stdout",
     "output_type": "stream",
     "text": [
      "False\n",
      "True\n",
      "False\n",
      "False\n"
     ]
    }
   ],
   "source": [
    "#17. How do you distinguish between copy.copy() and copy.deepcopy()?\n",
    "#copy() create reference to original object. If you change copied object - you change the original object.\n",
    "#.deepcopy() creates new object and does real copying of original object to new one\n",
    "import copy\n",
    "\n",
    "a = [1, 2, 3]\n",
    "b = [4, 5, 6]\n",
    "c = [a, b]\n",
    "d = copy.copy(c)\n",
    "\n",
    "print(id(c) == id(d))          # False - d is now a new object\n",
    "print(id(c[0]) == id(d[0]))    # True - d[0] is the same object as c[0]\n",
    "\n",
    "d = copy.deepcopy(c)\n",
    "\n",
    "print(id(c) == id(d))         # False - d is now a new object\n",
    "print(id(c[0]) == id(d[0]))  # False - d[0] is now a new object"
   ]
  },
  {
   "cell_type": "code",
   "execution_count": null,
   "id": "a79072e7",
   "metadata": {},
   "outputs": [],
   "source": []
  }
 ],
 "metadata": {
  "kernelspec": {
   "display_name": "Python 3 (ipykernel)",
   "language": "python",
   "name": "python3"
  },
  "language_info": {
   "codemirror_mode": {
    "name": "ipython",
    "version": 3
   },
   "file_extension": ".py",
   "mimetype": "text/x-python",
   "name": "python",
   "nbconvert_exporter": "python",
   "pygments_lexer": "ipython3",
   "version": "3.9.12"
  }
 },
 "nbformat": 4,
 "nbformat_minor": 5
}

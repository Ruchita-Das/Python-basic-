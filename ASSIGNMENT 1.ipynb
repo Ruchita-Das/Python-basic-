{
 "cells": [
  {
   "cell_type": "markdown",
   "id": "799bb13a",
   "metadata": {},
   "source": [
    "# ASSIGNMENT 1"
   ]
  },
  {
   "cell_type": "code",
   "execution_count": null,
   "id": "153f9d23",
   "metadata": {},
   "outputs": [],
   "source": [
    "#1 answer\n",
    "* -expression\n",
    "'hello'-value\n",
    "&-expression\n",
    "-87.8 -value\n",
    "- -expression\n",
    "/ -expression \n",
    "+ -expression\n",
    "6 -value"
   ]
  },
  {
   "cell_type": "code",
   "execution_count": null,
   "id": "b4d4091b",
   "metadata": {},
   "outputs": [],
   "source": [
    "#2 answer\n",
    "STRING-String is a datatype and is enclosed with \"\" or ''.String holds sequence of characters.\n",
    "VARIABLE=Variable is an identifier used to store information in a programming language. We assign variable to different datatypes.\n",
    "Example=\n",
    "L=\"letters are important\"\n",
    "here,L is holding the information of the string,so L is the variable and letters are important are enclosed within \"\" hence it is the string"
   ]
  },
  {
   "cell_type": "code",
   "execution_count": null,
   "id": "3da18d13",
   "metadata": {},
   "outputs": [],
   "source": [
    "#3 answer\n",
    "3 types of datatypes are-\n",
    "INTEGER-These datatypes hold numerical values without fractional value.\n",
    "example-a=2\n",
    "STRING-String is a datatype and is enclosed with \"\" or ''.String holds sequence of characters.\n",
    "Example-a=\"this is a string\"\n",
    "BOOLEAN-These datatypes hold one of the 2 built in values,either true or false.\n",
    "Example-print(10>9) will give us false"
   ]
  },
  {
   "cell_type": "code",
   "execution_count": null,
   "id": "6fcdebfa",
   "metadata": {},
   "outputs": [],
   "source": [
    "#4 answer\n",
    "An expression is a made up of operators and operands.The operators with the help of operand produce value.\n",
    "The value might be integer,floating,logical or bitwise."
   ]
  },
  {
   "cell_type": "code",
   "execution_count": null,
   "id": "7f6f3ce4",
   "metadata": {},
   "outputs": [],
   "source": [
    "#5 answer\n",
    "Expressions only contain identifiers, literals and operators, where operators include arithmetic and boolean operators, the function call operator () the subscription operator [] and similar, and can be reduced to some kind of \"value\"\n",
    "Statements,on the other hand, are everything that can make up a line (or several lines) of Python code"
   ]
  },
  {
   "cell_type": "code",
   "execution_count": null,
   "id": "36e23863",
   "metadata": {},
   "outputs": [],
   "source": [
    "#6 answer\n",
    "After running the code,the result will be\n",
    "23"
   ]
  },
  {
   "cell_type": "code",
   "execution_count": null,
   "id": "1078aef9",
   "metadata": {},
   "outputs": [],
   "source": [
    "#7 answer\n",
    "\"spam\" + \"spamspam\" and \"spam\"*3 results in-\n",
    "'spamspamspam'\n"
   ]
  },
  {
   "cell_type": "code",
   "execution_count": null,
   "id": "f63cc8b3",
   "metadata": {},
   "outputs": [],
   "source": [
    "#8 answer\n",
    "eggs is valid variable name but 100 isn't because the start of a variable name should  always be an alphabetical letter,so e100 would be a valid variable name"
   ]
  },
  {
   "cell_type": "code",
   "execution_count": null,
   "id": "7980669e",
   "metadata": {},
   "outputs": [],
   "source": [
    "#9 answer\n",
    "functions for-\n",
    "integer-int\n",
    "string-str\n",
    "floating point number-float "
   ]
  },
  {
   "cell_type": "code",
   "execution_count": null,
   "id": "3c125ea7",
   "metadata": {},
   "outputs": [],
   "source": [
    "#10 answer\n",
    "It gives us error because we are trying to concatenate integers with strings which isn't possible as only same data types can be added.\n",
    "so, \"99\" would solve the problem as we are typecasting 99 to string."
   ]
  },
  {
   "cell_type": "code",
   "execution_count": null,
   "id": "5d69951f",
   "metadata": {},
   "outputs": [],
   "source": []
  }
 ],
 "metadata": {
  "kernelspec": {
   "display_name": "Python 3",
   "language": "python",
   "name": "python3"
  },
  "language_info": {
   "codemirror_mode": {
    "name": "ipython",
    "version": 3
   },
   "file_extension": ".py",
   "mimetype": "text/x-python",
   "name": "python",
   "nbconvert_exporter": "python",
   "pygments_lexer": "ipython3",
   "version": "3.8.8"
  }
 },
 "nbformat": 4,
 "nbformat_minor": 5
}

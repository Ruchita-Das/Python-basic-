{
 "cells": [
  {
   "cell_type": "code",
   "execution_count": null,
   "id": "fd570cbd",
   "metadata": {},
   "outputs": [],
   "source": [
    "#1 answer\n",
    "Functions are advantageous because in a function,a block of code is written and we can call those lines of code anytime and as \n",
    "much as we want.So when we are writing a program that requires repeatition of a block of code,we use function.Function reduces\n",
    "redundancy and increases reuseability."
   ]
  },
  {
   "cell_type": "code",
   "execution_count": null,
   "id": "2a4c6b67",
   "metadata": {},
   "outputs": [],
   "source": [
    "#2 answer\n",
    "The code in a function runs when it is called."
   ]
  },
  {
   "cell_type": "code",
   "execution_count": null,
   "id": "0c1af0fc",
   "metadata": {},
   "outputs": [],
   "source": [
    "#3 answer\n",
    "def keyword creates a function."
   ]
  },
  {
   "cell_type": "code",
   "execution_count": null,
   "id": "114813f5",
   "metadata": {},
   "outputs": [],
   "source": [
    "#4 answer\n",
    "A function is a block of code that is started with a def keyword and includes lines of code that are reusable.\n",
    "A function call is calling the lines of code involved in a function,function is defined only once while function call can be\n",
    "used as much as we want."
   ]
  },
  {
   "cell_type": "code",
   "execution_count": null,
   "id": "465f5e64",
   "metadata": {},
   "outputs": [],
   "source": [
    "#5 answer\n",
    "Only one global scope exists pe program but localscopes are created as much as we call the functions having the local variable.\n"
   ]
  },
  {
   "cell_type": "code",
   "execution_count": null,
   "id": "9b835ef7",
   "metadata": {},
   "outputs": [],
   "source": [
    "#6 answer\n",
    "A local variable retains its value until the next time the function is called.\n",
    "A local variable becomes undefined after the function call completes."
   ]
  },
  {
   "cell_type": "code",
   "execution_count": null,
   "id": "22cc6770",
   "metadata": {},
   "outputs": [],
   "source": [
    "#7 answ\n",
    "A return value ends execution of a function and any lines written after function won't be executed and it returns the value(value of the \n",
    "expression after the return keyword) to function caller.\n",
    "Yes,it is possible to have a return value in an expression.\n",
    "example-\n",
    "def test():\n",
    "    return 40\n",
    "test()\n",
    "x=10\n",
    "x+test()\n",
    "The above code gives 50 as a result.\n"
   ]
  },
  {
   "cell_type": "code",
   "execution_count": null,
   "id": "1821692a",
   "metadata": {},
   "outputs": [],
   "source": [
    "#8 answer\n",
    "If a function does not have a return statement,the return value of a call to that function is None."
   ]
  },
  {
   "cell_type": "code",
   "execution_count": 7,
   "id": "d2932ab6",
   "metadata": {},
   "outputs": [
    {
     "data": {
      "text/plain": [
       "2332322"
      ]
     },
     "execution_count": 7,
     "metadata": {},
     "output_type": "execute_result"
    }
   ],
   "source": [
    "#9 answer\n",
    "#We can make a function variable refer to global variable by using the keyword global.\n",
    "#ex- \n",
    "x=23\n",
    "def test():\n",
    "    global x\n",
    "    x=2332322\n",
    "    return x\n",
    "test()\n"
   ]
  },
  {
   "cell_type": "code",
   "execution_count": null,
   "id": "c9282395",
   "metadata": {},
   "outputs": [],
   "source": [
    "#10 answer\n",
    "Data type of None is NoneType"
   ]
  },
  {
   "cell_type": "code",
   "execution_count": 8,
   "id": "5443d32d",
   "metadata": {},
   "outputs": [
    {
     "ename": "ModuleNotFoundError",
     "evalue": "No module named 'areallyourpetsnamederic'",
     "output_type": "error",
     "traceback": [
      "\u001b[1;31m---------------------------------------------------------------------------\u001b[0m",
      "\u001b[1;31mModuleNotFoundError\u001b[0m                       Traceback (most recent call last)",
      "\u001b[1;32m<ipython-input-8-875ddf250445>\u001b[0m in \u001b[0;36m<module>\u001b[1;34m\u001b[0m\n\u001b[0;32m      1\u001b[0m \u001b[1;31m#11 answer\u001b[0m\u001b[1;33m\u001b[0m\u001b[1;33m\u001b[0m\u001b[1;33m\u001b[0m\u001b[0m\n\u001b[1;32m----> 2\u001b[1;33m \u001b[1;32mimport\u001b[0m \u001b[0mareallyourpetsnamederic\u001b[0m\u001b[1;33m\u001b[0m\u001b[1;33m\u001b[0m\u001b[0m\n\u001b[0m",
      "\u001b[1;31mModuleNotFoundError\u001b[0m: No module named 'areallyourpetsnamederic'"
     ]
    }
   ],
   "source": [
    "#11 answer\n",
    "import areallyourpetsnamederic\n",
    "It gives us ModuleNotFoundError as there exists no .py file,areallyourpetsnamederic"
   ]
  },
  {
   "cell_type": "code",
   "execution_count": null,
   "id": "093d98dc",
   "metadata": {},
   "outputs": [],
   "source": [
    "#12 answer\n",
    "spam.bacon() would be used to call bacon function inside spam\n"
   ]
  },
  {
   "cell_type": "code",
   "execution_count": null,
   "id": "c065b8ed",
   "metadata": {},
   "outputs": [],
   "source": [
    "#13 answer\n",
    "To save a programme from crashing if it encounters an error,we can use exception handling methods using try,except,raise."
   ]
  },
  {
   "cell_type": "code",
   "execution_count": null,
   "id": "9243161e",
   "metadata": {},
   "outputs": [],
   "source": [
    "#14 answer\n",
    "Try clause is used where we put the risky code,code that has chance of error.It test a block of code for errors.\n",
    "EXcept clause handles the exception or error."
   ]
  },
  {
   "cell_type": "code",
   "execution_count": null,
   "id": "b7d167c2",
   "metadata": {},
   "outputs": [],
   "source": []
  },
  {
   "cell_type": "code",
   "execution_count": null,
   "id": "1e53d025",
   "metadata": {},
   "outputs": [],
   "source": []
  }
 ],
 "metadata": {
  "kernelspec": {
   "display_name": "Python 3",
   "language": "python",
   "name": "python3"
  },
  "language_info": {
   "codemirror_mode": {
    "name": "ipython",
    "version": 3
   },
   "file_extension": ".py",
   "mimetype": "text/x-python",
   "name": "python",
   "nbconvert_exporter": "python",
   "pygments_lexer": "ipython3",
   "version": "3.8.8"
  }
 },
 "nbformat": 4,
 "nbformat_minor": 5
}
